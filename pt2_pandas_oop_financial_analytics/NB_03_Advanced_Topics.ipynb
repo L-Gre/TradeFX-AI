{
 "cells": [
  {
   "cell_type": "markdown",
   "metadata": {},
   "source": [
    "# Advanced Topics"
   ]
  },
  {
   "cell_type": "code",
   "execution_count": 1,
   "metadata": {},
   "outputs": [],
   "source": [
    "from dotenv import load_dotenv\n",
    "import os\n",
    "\n",
    "# Load environment variables from .env file\n",
    "load_dotenv()\n",
    "\n",
    "# Access the PROJECT_FILES variable\n",
    "project_files = os.getenv(\"PROJECT_FILES_PT2\")"
   ]
  },
  {
   "cell_type": "markdown",
   "metadata": {},
   "source": [
    "## Importing Financial Data from Excel"
   ]
  },
  {
   "cell_type": "code",
   "execution_count": 2,
   "metadata": {},
   "outputs": [],
   "source": [
    "import pandas as pd"
   ]
  },
  {
   "cell_type": "code",
   "execution_count": 4,
   "metadata": {},
   "outputs": [
    {
     "data": {
      "text/html": [
       "<div>\n",
       "<style scoped>\n",
       "    .dataframe tbody tr th:only-of-type {\n",
       "        vertical-align: middle;\n",
       "    }\n",
       "\n",
       "    .dataframe tbody tr th {\n",
       "        vertical-align: top;\n",
       "    }\n",
       "\n",
       "    .dataframe thead th {\n",
       "        text-align: right;\n",
       "    }\n",
       "</style>\n",
       "<table border=\"1\" class=\"dataframe\">\n",
       "  <thead>\n",
       "    <tr style=\"text-align: right;\">\n",
       "      <th></th>\n",
       "      <th>Date</th>\n",
       "      <th>Open</th>\n",
       "      <th>High</th>\n",
       "      <th>Low</th>\n",
       "      <th>Close</th>\n",
       "      <th>Adj Close</th>\n",
       "      <th>Volume</th>\n",
       "    </tr>\n",
       "  </thead>\n",
       "  <tbody>\n",
       "    <tr>\n",
       "      <th>0</th>\n",
       "      <td>1970-12-31</td>\n",
       "      <td>92.269997</td>\n",
       "      <td>92.790001</td>\n",
       "      <td>91.360001</td>\n",
       "      <td>92.150002</td>\n",
       "      <td>92.150002</td>\n",
       "      <td>13390000</td>\n",
       "    </tr>\n",
       "    <tr>\n",
       "      <th>1</th>\n",
       "      <td>1971-01-04</td>\n",
       "      <td>92.150002</td>\n",
       "      <td>92.190002</td>\n",
       "      <td>90.639999</td>\n",
       "      <td>91.150002</td>\n",
       "      <td>91.150002</td>\n",
       "      <td>10010000</td>\n",
       "    </tr>\n",
       "    <tr>\n",
       "      <th>2</th>\n",
       "      <td>1971-01-05</td>\n",
       "      <td>91.150002</td>\n",
       "      <td>92.279999</td>\n",
       "      <td>90.690002</td>\n",
       "      <td>91.800003</td>\n",
       "      <td>91.800003</td>\n",
       "      <td>12600000</td>\n",
       "    </tr>\n",
       "    <tr>\n",
       "      <th>3</th>\n",
       "      <td>1971-01-06</td>\n",
       "      <td>91.800003</td>\n",
       "      <td>93.000000</td>\n",
       "      <td>91.500000</td>\n",
       "      <td>92.349998</td>\n",
       "      <td>92.349998</td>\n",
       "      <td>16960000</td>\n",
       "    </tr>\n",
       "    <tr>\n",
       "      <th>4</th>\n",
       "      <td>1971-01-07</td>\n",
       "      <td>92.349998</td>\n",
       "      <td>93.260002</td>\n",
       "      <td>91.750000</td>\n",
       "      <td>92.379997</td>\n",
       "      <td>92.379997</td>\n",
       "      <td>16460000</td>\n",
       "    </tr>\n",
       "    <tr>\n",
       "      <th>...</th>\n",
       "      <td>...</td>\n",
       "      <td>...</td>\n",
       "      <td>...</td>\n",
       "      <td>...</td>\n",
       "      <td>...</td>\n",
       "      <td>...</td>\n",
       "      <td>...</td>\n",
       "    </tr>\n",
       "    <tr>\n",
       "      <th>12102</th>\n",
       "      <td>2018-12-21</td>\n",
       "      <td>2465.379883</td>\n",
       "      <td>2504.409912</td>\n",
       "      <td>2408.550049</td>\n",
       "      <td>2416.620117</td>\n",
       "      <td>2416.620117</td>\n",
       "      <td>-980924592</td>\n",
       "    </tr>\n",
       "    <tr>\n",
       "      <th>12103</th>\n",
       "      <td>2018-12-24</td>\n",
       "      <td>2400.560059</td>\n",
       "      <td>2410.340088</td>\n",
       "      <td>2351.100098</td>\n",
       "      <td>2351.100098</td>\n",
       "      <td>2351.100098</td>\n",
       "      <td>-1681037296</td>\n",
       "    </tr>\n",
       "    <tr>\n",
       "      <th>12104</th>\n",
       "      <td>2018-12-26</td>\n",
       "      <td>2363.120117</td>\n",
       "      <td>2467.760010</td>\n",
       "      <td>2346.580078</td>\n",
       "      <td>2467.699951</td>\n",
       "      <td>2467.699951</td>\n",
       "      <td>-60977296</td>\n",
       "    </tr>\n",
       "    <tr>\n",
       "      <th>12105</th>\n",
       "      <td>2018-12-27</td>\n",
       "      <td>2442.500000</td>\n",
       "      <td>2489.100098</td>\n",
       "      <td>2397.939941</td>\n",
       "      <td>2488.830078</td>\n",
       "      <td>2488.830078</td>\n",
       "      <td>-198357296</td>\n",
       "    </tr>\n",
       "    <tr>\n",
       "      <th>12106</th>\n",
       "      <td>2018-12-28</td>\n",
       "      <td>2498.770020</td>\n",
       "      <td>2520.270020</td>\n",
       "      <td>2472.889893</td>\n",
       "      <td>2485.739990</td>\n",
       "      <td>2485.739990</td>\n",
       "      <td>-592347296</td>\n",
       "    </tr>\n",
       "  </tbody>\n",
       "</table>\n",
       "<p>12107 rows × 7 columns</p>\n",
       "</div>"
      ],
      "text/plain": [
       "            Date         Open         High          Low        Close  \\\n",
       "0     1970-12-31    92.269997    92.790001    91.360001    92.150002   \n",
       "1     1971-01-04    92.150002    92.190002    90.639999    91.150002   \n",
       "2     1971-01-05    91.150002    92.279999    90.690002    91.800003   \n",
       "3     1971-01-06    91.800003    93.000000    91.500000    92.349998   \n",
       "4     1971-01-07    92.349998    93.260002    91.750000    92.379997   \n",
       "...          ...          ...          ...          ...          ...   \n",
       "12102 2018-12-21  2465.379883  2504.409912  2408.550049  2416.620117   \n",
       "12103 2018-12-24  2400.560059  2410.340088  2351.100098  2351.100098   \n",
       "12104 2018-12-26  2363.120117  2467.760010  2346.580078  2467.699951   \n",
       "12105 2018-12-27  2442.500000  2489.100098  2397.939941  2488.830078   \n",
       "12106 2018-12-28  2498.770020  2520.270020  2472.889893  2485.739990   \n",
       "\n",
       "         Adj Close      Volume  \n",
       "0        92.150002    13390000  \n",
       "1        91.150002    10010000  \n",
       "2        91.800003    12600000  \n",
       "3        92.349998    16960000  \n",
       "4        92.379997    16460000  \n",
       "...            ...         ...  \n",
       "12102  2416.620117  -980924592  \n",
       "12103  2351.100098 -1681037296  \n",
       "12104  2467.699951   -60977296  \n",
       "12105  2488.830078  -198357296  \n",
       "12106  2485.739990  -592347296  \n",
       "\n",
       "[12107 rows x 7 columns]"
      ]
     },
     "execution_count": 4,
     "metadata": {},
     "output_type": "execute_result"
    }
   ],
   "source": [
    "# if error, install xlrd (\"conda install xlrd\")\n",
    "\n",
    "pd.read_excel(os.path.join(project_files, 'SP500.xls'))"
   ]
  },
  {
   "cell_type": "code",
   "execution_count": 3,
   "metadata": {
    "scrolled": true
   },
   "outputs": [
    {
     "name": "stdout",
     "output_type": "stream",
     "text": [
      "<class 'pandas.core.frame.DataFrame'>\n",
      "RangeIndex: 12107 entries, 0 to 12106\n",
      "Data columns (total 7 columns):\n",
      " #   Column     Non-Null Count  Dtype         \n",
      "---  ------     --------------  -----         \n",
      " 0   Date       12107 non-null  datetime64[ns]\n",
      " 1   Open       12107 non-null  float64       \n",
      " 2   High       12107 non-null  float64       \n",
      " 3   Low        12107 non-null  float64       \n",
      " 4   Close      12107 non-null  float64       \n",
      " 5   Adj Close  12107 non-null  float64       \n",
      " 6   Volume     12107 non-null  int64         \n",
      "dtypes: datetime64[ns](1), float64(5), int64(1)\n",
      "memory usage: 662.2 KB\n"
     ]
    }
   ],
   "source": [
    "# if error, install xlrd (\"conda install xlrd\")\n",
    "\n",
    "pd.read_excel(os.path.join(project_files, 'SP500.xls')).info()"
   ]
  },
  {
   "cell_type": "code",
   "execution_count": 5,
   "metadata": {
    "scrolled": true
   },
   "outputs": [
    {
     "data": {
      "text/html": [
       "<div>\n",
       "<style scoped>\n",
       "    .dataframe tbody tr th:only-of-type {\n",
       "        vertical-align: middle;\n",
       "    }\n",
       "\n",
       "    .dataframe tbody tr th {\n",
       "        vertical-align: top;\n",
       "    }\n",
       "\n",
       "    .dataframe thead th {\n",
       "        text-align: right;\n",
       "    }\n",
       "</style>\n",
       "<table border=\"1\" class=\"dataframe\">\n",
       "  <thead>\n",
       "    <tr style=\"text-align: right;\">\n",
       "      <th></th>\n",
       "      <th>Open</th>\n",
       "      <th>High</th>\n",
       "      <th>Low</th>\n",
       "      <th>Close</th>\n",
       "      <th>Adj Close</th>\n",
       "      <th>Volume</th>\n",
       "    </tr>\n",
       "    <tr>\n",
       "      <th>Date</th>\n",
       "      <th></th>\n",
       "      <th></th>\n",
       "      <th></th>\n",
       "      <th></th>\n",
       "      <th></th>\n",
       "      <th></th>\n",
       "    </tr>\n",
       "  </thead>\n",
       "  <tbody>\n",
       "    <tr>\n",
       "      <th>1970-12-31</th>\n",
       "      <td>92.269997</td>\n",
       "      <td>92.790001</td>\n",
       "      <td>91.360001</td>\n",
       "      <td>92.150002</td>\n",
       "      <td>92.150002</td>\n",
       "      <td>13390000</td>\n",
       "    </tr>\n",
       "    <tr>\n",
       "      <th>1971-01-04</th>\n",
       "      <td>92.150002</td>\n",
       "      <td>92.190002</td>\n",
       "      <td>90.639999</td>\n",
       "      <td>91.150002</td>\n",
       "      <td>91.150002</td>\n",
       "      <td>10010000</td>\n",
       "    </tr>\n",
       "    <tr>\n",
       "      <th>1971-01-05</th>\n",
       "      <td>91.150002</td>\n",
       "      <td>92.279999</td>\n",
       "      <td>90.690002</td>\n",
       "      <td>91.800003</td>\n",
       "      <td>91.800003</td>\n",
       "      <td>12600000</td>\n",
       "    </tr>\n",
       "    <tr>\n",
       "      <th>1971-01-06</th>\n",
       "      <td>91.800003</td>\n",
       "      <td>93.000000</td>\n",
       "      <td>91.500000</td>\n",
       "      <td>92.349998</td>\n",
       "      <td>92.349998</td>\n",
       "      <td>16960000</td>\n",
       "    </tr>\n",
       "    <tr>\n",
       "      <th>1971-01-07</th>\n",
       "      <td>92.349998</td>\n",
       "      <td>93.260002</td>\n",
       "      <td>91.750000</td>\n",
       "      <td>92.379997</td>\n",
       "      <td>92.379997</td>\n",
       "      <td>16460000</td>\n",
       "    </tr>\n",
       "    <tr>\n",
       "      <th>...</th>\n",
       "      <td>...</td>\n",
       "      <td>...</td>\n",
       "      <td>...</td>\n",
       "      <td>...</td>\n",
       "      <td>...</td>\n",
       "      <td>...</td>\n",
       "    </tr>\n",
       "    <tr>\n",
       "      <th>2018-12-21</th>\n",
       "      <td>2465.379883</td>\n",
       "      <td>2504.409912</td>\n",
       "      <td>2408.550049</td>\n",
       "      <td>2416.620117</td>\n",
       "      <td>2416.620117</td>\n",
       "      <td>-980924592</td>\n",
       "    </tr>\n",
       "    <tr>\n",
       "      <th>2018-12-24</th>\n",
       "      <td>2400.560059</td>\n",
       "      <td>2410.340088</td>\n",
       "      <td>2351.100098</td>\n",
       "      <td>2351.100098</td>\n",
       "      <td>2351.100098</td>\n",
       "      <td>-1681037296</td>\n",
       "    </tr>\n",
       "    <tr>\n",
       "      <th>2018-12-26</th>\n",
       "      <td>2363.120117</td>\n",
       "      <td>2467.760010</td>\n",
       "      <td>2346.580078</td>\n",
       "      <td>2467.699951</td>\n",
       "      <td>2467.699951</td>\n",
       "      <td>-60977296</td>\n",
       "    </tr>\n",
       "    <tr>\n",
       "      <th>2018-12-27</th>\n",
       "      <td>2442.500000</td>\n",
       "      <td>2489.100098</td>\n",
       "      <td>2397.939941</td>\n",
       "      <td>2488.830078</td>\n",
       "      <td>2488.830078</td>\n",
       "      <td>-198357296</td>\n",
       "    </tr>\n",
       "    <tr>\n",
       "      <th>2018-12-28</th>\n",
       "      <td>2498.770020</td>\n",
       "      <td>2520.270020</td>\n",
       "      <td>2472.889893</td>\n",
       "      <td>2485.739990</td>\n",
       "      <td>2485.739990</td>\n",
       "      <td>-592347296</td>\n",
       "    </tr>\n",
       "  </tbody>\n",
       "</table>\n",
       "<p>12107 rows × 6 columns</p>\n",
       "</div>"
      ],
      "text/plain": [
       "                   Open         High          Low        Close    Adj Close  \\\n",
       "Date                                                                          \n",
       "1970-12-31    92.269997    92.790001    91.360001    92.150002    92.150002   \n",
       "1971-01-04    92.150002    92.190002    90.639999    91.150002    91.150002   \n",
       "1971-01-05    91.150002    92.279999    90.690002    91.800003    91.800003   \n",
       "1971-01-06    91.800003    93.000000    91.500000    92.349998    92.349998   \n",
       "1971-01-07    92.349998    93.260002    91.750000    92.379997    92.379997   \n",
       "...                 ...          ...          ...          ...          ...   \n",
       "2018-12-21  2465.379883  2504.409912  2408.550049  2416.620117  2416.620117   \n",
       "2018-12-24  2400.560059  2410.340088  2351.100098  2351.100098  2351.100098   \n",
       "2018-12-26  2363.120117  2467.760010  2346.580078  2467.699951  2467.699951   \n",
       "2018-12-27  2442.500000  2489.100098  2397.939941  2488.830078  2488.830078   \n",
       "2018-12-28  2498.770020  2520.270020  2472.889893  2485.739990  2485.739990   \n",
       "\n",
       "                Volume  \n",
       "Date                    \n",
       "1970-12-31    13390000  \n",
       "1971-01-04    10010000  \n",
       "1971-01-05    12600000  \n",
       "1971-01-06    16960000  \n",
       "1971-01-07    16460000  \n",
       "...                ...  \n",
       "2018-12-21  -980924592  \n",
       "2018-12-24 -1681037296  \n",
       "2018-12-26   -60977296  \n",
       "2018-12-27  -198357296  \n",
       "2018-12-28  -592347296  \n",
       "\n",
       "[12107 rows x 6 columns]"
      ]
     },
     "execution_count": 5,
     "metadata": {},
     "output_type": "execute_result"
    }
   ],
   "source": [
    "pd.read_excel(os.path.join(project_files, 'SP500.xls'), parse_dates= [\"Date\"], index_col = \"Date\")"
   ]
  },
  {
   "cell_type": "code",
   "execution_count": null,
   "metadata": {
    "scrolled": true
   },
   "outputs": [],
   "source": [
    "pd.read_excel(os.path.join(project_files, 'SP500.xls'), parse_dates= [\"Date\"], index_col = \"Date\", usecols = \"A, C:E\")"
   ]
  },
  {
   "cell_type": "code",
   "execution_count": null,
   "metadata": {
    "scrolled": true
   },
   "outputs": [],
   "source": [
    "pd.read_excel(os.path.join(project_files, 'SP500.xls'), sheet_name= \"Sales\")"
   ]
  },
  {
   "cell_type": "code",
   "execution_count": null,
   "metadata": {},
   "outputs": [],
   "source": [
    "SP500 = pd.read_excel(os.path.join(project_files, 'SP500.xls'), parse_dates= [\"Date\"], index_col = \"Date\", usecols= \"A:E\")"
   ]
  },
  {
   "cell_type": "code",
   "execution_count": null,
   "metadata": {
    "scrolled": true
   },
   "outputs": [],
   "source": [
    "SP500.head()"
   ]
  },
  {
   "cell_type": "code",
   "execution_count": null,
   "metadata": {},
   "outputs": [],
   "source": [
    "SP500.tail()"
   ]
  },
  {
   "cell_type": "code",
   "execution_count": null,
   "metadata": {},
   "outputs": [],
   "source": [
    "SP500.info()"
   ]
  },
  {
   "cell_type": "code",
   "execution_count": null,
   "metadata": {},
   "outputs": [],
   "source": [
    "SP500.to_csv(\"SP500.csv\")"
   ]
  },
  {
   "cell_type": "code",
   "execution_count": null,
   "metadata": {},
   "outputs": [],
   "source": [
    "SP500.to_excel(\"SP500_red.xls\", engine = \"openpyxl\")"
   ]
  },
  {
   "cell_type": "markdown",
   "metadata": {},
   "source": [
    "### Merging Time Series"
   ]
  },
  {
   "cell_type": "code",
   "execution_count": null,
   "metadata": {},
   "outputs": [],
   "source": [
    "import pandas as pd"
   ]
  },
  {
   "cell_type": "code",
   "execution_count": null,
   "metadata": {},
   "outputs": [],
   "source": [
    "stocks = pd.read_csv(\"stocks.csv\", header = [0,1], index_col= [0], parse_dates= [0]).Close"
   ]
  },
  {
   "cell_type": "code",
   "execution_count": null,
   "metadata": {},
   "outputs": [],
   "source": [
    "stocks.head()"
   ]
  },
  {
   "cell_type": "code",
   "execution_count": null,
   "metadata": {},
   "outputs": [],
   "source": [
    "aapl = stocks.loc[\"2010-01-01\" : \"2014-12-31\", \"AAPL\"].to_frame()\n",
    "aapl.head()"
   ]
  },
  {
   "cell_type": "code",
   "execution_count": null,
   "metadata": {},
   "outputs": [],
   "source": [
    "ba = stocks.loc[\"2012-01-01\" : \"2016-12-31\", \"BA\"].to_frame()\n",
    "ba.head()"
   ]
  },
  {
   "cell_type": "code",
   "execution_count": null,
   "metadata": {},
   "outputs": [],
   "source": [
    "aapl[\"BA\"] = ba.BA"
   ]
  },
  {
   "cell_type": "code",
   "execution_count": null,
   "metadata": {},
   "outputs": [],
   "source": [
    "aapl.head()"
   ]
  },
  {
   "cell_type": "code",
   "execution_count": null,
   "metadata": {},
   "outputs": [],
   "source": [
    "aapl.tail()"
   ]
  },
  {
   "cell_type": "code",
   "execution_count": null,
   "metadata": {
    "scrolled": true
   },
   "outputs": [],
   "source": [
    "aapl.dropna()"
   ]
  },
  {
   "cell_type": "code",
   "execution_count": null,
   "metadata": {
    "scrolled": true
   },
   "outputs": [],
   "source": [
    "ba.reindex(aapl.index).dropna()"
   ]
  },
  {
   "cell_type": "code",
   "execution_count": null,
   "metadata": {},
   "outputs": [],
   "source": [
    "dis = stocks.loc[\"2010-01-01\" : \"2016-12-31\", \"DIS\"].resample(\"W-Fri\").last().to_frame()\n",
    "dis.head()"
   ]
  },
  {
   "cell_type": "code",
   "execution_count": null,
   "metadata": {
    "scrolled": true
   },
   "outputs": [],
   "source": [
    "aapl.head()"
   ]
  },
  {
   "cell_type": "code",
   "execution_count": null,
   "metadata": {},
   "outputs": [],
   "source": [
    "aapl[\"DIS\"] = dis.DIS"
   ]
  },
  {
   "cell_type": "code",
   "execution_count": null,
   "metadata": {},
   "outputs": [],
   "source": [
    "aapl.head(10)"
   ]
  },
  {
   "cell_type": "code",
   "execution_count": null,
   "metadata": {
    "scrolled": true
   },
   "outputs": [],
   "source": [
    "dis.reindex(aapl.index)"
   ]
  },
  {
   "cell_type": "code",
   "execution_count": null,
   "metadata": {},
   "outputs": [],
   "source": [
    "dis[\"AAPL\"] = aapl.AAPL"
   ]
  },
  {
   "cell_type": "code",
   "execution_count": null,
   "metadata": {},
   "outputs": [],
   "source": [
    "dis.head(10)"
   ]
  },
  {
   "cell_type": "code",
   "execution_count": null,
   "metadata": {},
   "outputs": [],
   "source": []
  },
  {
   "cell_type": "markdown",
   "metadata": {},
   "source": [
    "## Helpful DatetimeIndex Attributes and Methods"
   ]
  },
  {
   "cell_type": "code",
   "execution_count": null,
   "metadata": {},
   "outputs": [],
   "source": [
    "import pandas as pd"
   ]
  },
  {
   "cell_type": "code",
   "execution_count": null,
   "metadata": {},
   "outputs": [],
   "source": [
    "stocks = pd.read_csv(\"stocks.csv\", header = [0,1], index_col= [0], parse_dates= [0])"
   ]
  },
  {
   "cell_type": "code",
   "execution_count": null,
   "metadata": {},
   "outputs": [],
   "source": [
    "stocks.head()"
   ]
  },
  {
   "cell_type": "code",
   "execution_count": null,
   "metadata": {},
   "outputs": [],
   "source": [
    "close = stocks.loc[:, \"Close\"].copy()"
   ]
  },
  {
   "cell_type": "code",
   "execution_count": null,
   "metadata": {},
   "outputs": [],
   "source": [
    "close.head()"
   ]
  },
  {
   "cell_type": "code",
   "execution_count": null,
   "metadata": {},
   "outputs": [],
   "source": [
    "close.info()"
   ]
  },
  {
   "cell_type": "code",
   "execution_count": null,
   "metadata": {},
   "outputs": [],
   "source": [
    "close.index"
   ]
  },
  {
   "cell_type": "code",
   "execution_count": null,
   "metadata": {},
   "outputs": [],
   "source": [
    "close.index.day"
   ]
  },
  {
   "cell_type": "code",
   "execution_count": null,
   "metadata": {},
   "outputs": [],
   "source": [
    "close.index.month"
   ]
  },
  {
   "cell_type": "code",
   "execution_count": null,
   "metadata": {},
   "outputs": [],
   "source": [
    "close.index.year"
   ]
  },
  {
   "cell_type": "code",
   "execution_count": null,
   "metadata": {},
   "outputs": [],
   "source": [
    "close.index.day_name()"
   ]
  },
  {
   "cell_type": "code",
   "execution_count": null,
   "metadata": {},
   "outputs": [],
   "source": [
    "close.index.month_name()"
   ]
  },
  {
   "cell_type": "code",
   "execution_count": null,
   "metadata": {},
   "outputs": [],
   "source": [
    " close.index.weekday"
   ]
  },
  {
   "cell_type": "code",
   "execution_count": null,
   "metadata": {},
   "outputs": [],
   "source": [
    "close.index.quarter"
   ]
  },
  {
   "cell_type": "code",
   "execution_count": null,
   "metadata": {},
   "outputs": [],
   "source": [
    "close.index.days_in_month"
   ]
  },
  {
   "cell_type": "code",
   "execution_count": null,
   "metadata": {},
   "outputs": [],
   "source": [
    "# close.index.week # old"
   ]
  },
  {
   "cell_type": "code",
   "execution_count": null,
   "metadata": {},
   "outputs": [],
   "source": [
    "# close.index.weekofyear #old"
   ]
  },
  {
   "cell_type": "code",
   "execution_count": null,
   "metadata": {},
   "outputs": [],
   "source": [
    "close.index.isocalendar().week #new"
   ]
  },
  {
   "cell_type": "code",
   "execution_count": null,
   "metadata": {
    "scrolled": true
   },
   "outputs": [],
   "source": [
    "close.index.is_month_end"
   ]
  },
  {
   "cell_type": "code",
   "execution_count": null,
   "metadata": {},
   "outputs": [],
   "source": [
    "close[\"Day\"] = stocks.index.day_name()\n",
    "close[\"Quarter\"] = stocks.index.quarter"
   ]
  },
  {
   "cell_type": "code",
   "execution_count": null,
   "metadata": {
    "scrolled": true
   },
   "outputs": [],
   "source": [
    "close.head()"
   ]
  },
  {
   "cell_type": "code",
   "execution_count": null,
   "metadata": {},
   "outputs": [],
   "source": []
  },
  {
   "cell_type": "markdown",
   "metadata": {},
   "source": [
    "## Filling NA Values with bfill, ffill and interpolation"
   ]
  },
  {
   "cell_type": "code",
   "execution_count": null,
   "metadata": {},
   "outputs": [],
   "source": [
    "close.head()"
   ]
  },
  {
   "cell_type": "code",
   "execution_count": null,
   "metadata": {},
   "outputs": [],
   "source": [
    "close.tail()"
   ]
  },
  {
   "cell_type": "code",
   "execution_count": null,
   "metadata": {},
   "outputs": [],
   "source": [
    "all_days = pd.date_range(start = \"2009-12-31\", end = \"2019-02-06\", freq = \"D\")\n",
    "all_days"
   ]
  },
  {
   "cell_type": "code",
   "execution_count": null,
   "metadata": {
    "scrolled": true
   },
   "outputs": [],
   "source": [
    "close = close.reindex(all_days)"
   ]
  },
  {
   "cell_type": "code",
   "execution_count": null,
   "metadata": {},
   "outputs": [],
   "source": [
    "close.head(20)"
   ]
  },
  {
   "cell_type": "code",
   "execution_count": null,
   "metadata": {},
   "outputs": [],
   "source": [
    "close.Day = close.index.day_name()\n",
    "close.Quarter = close.index.quarter"
   ]
  },
  {
   "cell_type": "code",
   "execution_count": null,
   "metadata": {
    "scrolled": false
   },
   "outputs": [],
   "source": [
    "# close.fillna(method = \"ffill\", inplace= True) # old"
   ]
  },
  {
   "cell_type": "code",
   "execution_count": null,
   "metadata": {
    "scrolled": false
   },
   "outputs": [],
   "source": [
    "close.ffill(inplace= True) # new"
   ]
  },
  {
   "cell_type": "code",
   "execution_count": null,
   "metadata": {},
   "outputs": [],
   "source": [
    "close.head(15)"
   ]
  },
  {
   "cell_type": "code",
   "execution_count": null,
   "metadata": {},
   "outputs": [],
   "source": [
    "temp = pd.read_csv(\"temp.csv\", parse_dates=[\"datetime\"], index_col = \"datetime\")"
   ]
  },
  {
   "cell_type": "code",
   "execution_count": null,
   "metadata": {},
   "outputs": [],
   "source": [
    "temp.head(10)"
   ]
  },
  {
   "cell_type": "code",
   "execution_count": null,
   "metadata": {
    "scrolled": true
   },
   "outputs": [],
   "source": [
    "temp = temp.resample(\"30 Min\").mean()\n",
    "temp.head(10)"
   ]
  },
  {
   "cell_type": "code",
   "execution_count": null,
   "metadata": {
    "scrolled": true
   },
   "outputs": [],
   "source": [
    "temp.interpolate()"
   ]
  },
  {
   "cell_type": "code",
   "execution_count": null,
   "metadata": {},
   "outputs": [],
   "source": []
  },
  {
   "cell_type": "markdown",
   "metadata": {},
   "source": [
    "## Timezones and Converting (Part 1)"
   ]
  },
  {
   "cell_type": "code",
   "execution_count": null,
   "metadata": {},
   "outputs": [],
   "source": [
    "import pandas as pd"
   ]
  },
  {
   "cell_type": "code",
   "execution_count": null,
   "metadata": {},
   "outputs": [],
   "source": [
    "ge = pd.read_csv(\"GE_prices.csv\", parse_dates= [\"date\"], index_col= \"date\")"
   ]
  },
  {
   "cell_type": "code",
   "execution_count": null,
   "metadata": {
    "scrolled": true
   },
   "outputs": [],
   "source": [
    "ge.head(30)"
   ]
  },
  {
   "cell_type": "code",
   "execution_count": null,
   "metadata": {
    "scrolled": true
   },
   "outputs": [],
   "source": [
    "ge.info()"
   ]
  },
  {
   "cell_type": "code",
   "execution_count": null,
   "metadata": {},
   "outputs": [],
   "source": [
    "ge.index"
   ]
  },
  {
   "cell_type": "code",
   "execution_count": null,
   "metadata": {},
   "outputs": [],
   "source": [
    "print(ge.index.tz)"
   ]
  },
  {
   "cell_type": "code",
   "execution_count": null,
   "metadata": {
    "scrolled": true
   },
   "outputs": [],
   "source": [
    "ge.tz_localize(\"UTC\")"
   ]
  },
  {
   "cell_type": "code",
   "execution_count": null,
   "metadata": {
    "scrolled": true
   },
   "outputs": [],
   "source": [
    "ge.tz_localize(\"America/New_York\")"
   ]
  },
  {
   "cell_type": "code",
   "execution_count": null,
   "metadata": {
    "scrolled": false
   },
   "outputs": [],
   "source": [
    "ge = ge.tz_localize(\"America/New_York\")"
   ]
  },
  {
   "cell_type": "code",
   "execution_count": null,
   "metadata": {},
   "outputs": [],
   "source": [
    "ge.head()"
   ]
  },
  {
   "cell_type": "markdown",
   "metadata": {},
   "source": [
    "## Timezones and Converting (Part 2)"
   ]
  },
  {
   "cell_type": "code",
   "execution_count": null,
   "metadata": {},
   "outputs": [],
   "source": [
    "ge.index.tz"
   ]
  },
  {
   "cell_type": "code",
   "execution_count": null,
   "metadata": {
    "scrolled": true
   },
   "outputs": [],
   "source": [
    "ge.tz_convert(\"UTC\")"
   ]
  },
  {
   "cell_type": "code",
   "execution_count": null,
   "metadata": {
    "scrolled": true
   },
   "outputs": [],
   "source": [
    "ge.tz_convert(\"America/Los_Angeles\")"
   ]
  },
  {
   "cell_type": "code",
   "execution_count": null,
   "metadata": {},
   "outputs": [],
   "source": [
    "ge_la = ge.tz_convert(\"America/Los_Angeles\")"
   ]
  },
  {
   "cell_type": "code",
   "execution_count": null,
   "metadata": {},
   "outputs": [],
   "source": [
    "ge_la.head()"
   ]
  },
  {
   "cell_type": "code",
   "execution_count": null,
   "metadata": {},
   "outputs": [],
   "source": [
    "ge.head()"
   ]
  },
  {
   "cell_type": "code",
   "execution_count": null,
   "metadata": {},
   "outputs": [],
   "source": [
    "comb = pd.concat([ge, ge_la], axis = 1)"
   ]
  },
  {
   "cell_type": "code",
   "execution_count": null,
   "metadata": {},
   "outputs": [],
   "source": [
    "comb.head()"
   ]
  },
  {
   "cell_type": "code",
   "execution_count": null,
   "metadata": {},
   "outputs": [],
   "source": [
    "comb.index"
   ]
  },
  {
   "cell_type": "code",
   "execution_count": null,
   "metadata": {},
   "outputs": [],
   "source": [
    "comb[\"NY_time\"] = comb.index.tz_convert(\"America/New_York\")\n",
    "comb[\"LA_time\"] = comb.index.tz_convert(\"America/Los_Angeles\")"
   ]
  },
  {
   "cell_type": "code",
   "execution_count": null,
   "metadata": {},
   "outputs": [],
   "source": [
    "comb.head()"
   ]
  },
  {
   "cell_type": "code",
   "execution_count": null,
   "metadata": {},
   "outputs": [],
   "source": [
    "import pytz"
   ]
  },
  {
   "cell_type": "code",
   "execution_count": null,
   "metadata": {
    "scrolled": true
   },
   "outputs": [],
   "source": [
    "len(pytz.all_timezones)"
   ]
  },
  {
   "cell_type": "code",
   "execution_count": null,
   "metadata": {
    "scrolled": true
   },
   "outputs": [],
   "source": [
    "pytz.common_timezones"
   ]
  },
  {
   "cell_type": "code",
   "execution_count": null,
   "metadata": {},
   "outputs": [],
   "source": []
  }
 ],
 "metadata": {
  "kernelspec": {
   "display_name": "base",
   "language": "python",
   "name": "python3"
  },
  "language_info": {
   "codemirror_mode": {
    "name": "ipython",
    "version": 3
   },
   "file_extension": ".py",
   "mimetype": "text/x-python",
   "name": "python",
   "nbconvert_exporter": "python",
   "pygments_lexer": "ipython3",
   "version": "3.12.7"
  }
 },
 "nbformat": 4,
 "nbformat_minor": 2
}
