{
 "cells": [
  {
   "cell_type": "code",
   "execution_count": 2,
   "id": "bf1d6a08",
   "metadata": {},
   "outputs": [],
   "source": [
    "import FinancialInstrument as FI"
   ]
  },
  {
   "cell_type": "code",
   "execution_count": 4,
   "id": "04d85e1a",
   "metadata": {},
   "outputs": [
    {
     "name": "stderr",
     "output_type": "stream",
     "text": [
      "/Users/lhg/Documents/GitHub/TradeFX-AI/pt2_pandas_oop_financial_analytics/FinancialInstrument.py:66: FutureWarning: YF.download() has changed argument auto_adjust default to True\n",
      "  raw = yf.download(self._ticker, self.start, self.end, multi_level_index = False).Close.to_frame()\n",
      "[*********************100%***********************]  1 of 1 completed\n"
     ]
    }
   ],
   "source": [
    "aapl_stock = FI.FinancialInstrument(\"AAPL\", start= \"2020-01-01\", end= \"2025-06-30\")"
   ]
  },
  {
   "cell_type": "code",
   "execution_count": 6,
   "id": "4f37dad3",
   "metadata": {},
   "outputs": [
    {
     "data": {
      "text/html": [
       "<div>\n",
       "<style scoped>\n",
       "    .dataframe tbody tr th:only-of-type {\n",
       "        vertical-align: middle;\n",
       "    }\n",
       "\n",
       "    .dataframe tbody tr th {\n",
       "        vertical-align: top;\n",
       "    }\n",
       "\n",
       "    .dataframe thead th {\n",
       "        text-align: right;\n",
       "    }\n",
       "</style>\n",
       "<table border=\"1\" class=\"dataframe\">\n",
       "  <thead>\n",
       "    <tr style=\"text-align: right;\">\n",
       "      <th></th>\n",
       "      <th>price</th>\n",
       "      <th>log_returns</th>\n",
       "    </tr>\n",
       "    <tr>\n",
       "      <th>Date</th>\n",
       "      <th></th>\n",
       "      <th></th>\n",
       "    </tr>\n",
       "  </thead>\n",
       "  <tbody>\n",
       "    <tr>\n",
       "      <th>2020-01-02</th>\n",
       "      <td>72.620857</td>\n",
       "      <td>NaN</td>\n",
       "    </tr>\n",
       "    <tr>\n",
       "      <th>2020-01-03</th>\n",
       "      <td>71.914818</td>\n",
       "      <td>-0.009770</td>\n",
       "    </tr>\n",
       "    <tr>\n",
       "      <th>2020-01-06</th>\n",
       "      <td>72.487854</td>\n",
       "      <td>0.007937</td>\n",
       "    </tr>\n",
       "    <tr>\n",
       "      <th>2020-01-07</th>\n",
       "      <td>72.146942</td>\n",
       "      <td>-0.004714</td>\n",
       "    </tr>\n",
       "    <tr>\n",
       "      <th>2020-01-08</th>\n",
       "      <td>73.307518</td>\n",
       "      <td>0.015958</td>\n",
       "    </tr>\n",
       "    <tr>\n",
       "      <th>...</th>\n",
       "      <td>...</td>\n",
       "      <td>...</td>\n",
       "    </tr>\n",
       "    <tr>\n",
       "      <th>2025-06-23</th>\n",
       "      <td>201.500000</td>\n",
       "      <td>0.002484</td>\n",
       "    </tr>\n",
       "    <tr>\n",
       "      <th>2025-06-24</th>\n",
       "      <td>200.300003</td>\n",
       "      <td>-0.005973</td>\n",
       "    </tr>\n",
       "    <tr>\n",
       "      <th>2025-06-25</th>\n",
       "      <td>201.559998</td>\n",
       "      <td>0.006271</td>\n",
       "    </tr>\n",
       "    <tr>\n",
       "      <th>2025-06-26</th>\n",
       "      <td>201.000000</td>\n",
       "      <td>-0.002782</td>\n",
       "    </tr>\n",
       "    <tr>\n",
       "      <th>2025-06-27</th>\n",
       "      <td>201.080002</td>\n",
       "      <td>0.000398</td>\n",
       "    </tr>\n",
       "  </tbody>\n",
       "</table>\n",
       "<p>1379 rows × 2 columns</p>\n",
       "</div>"
      ],
      "text/plain": [
       "                 price  log_returns\n",
       "Date                               \n",
       "2020-01-02   72.620857          NaN\n",
       "2020-01-03   71.914818    -0.009770\n",
       "2020-01-06   72.487854     0.007937\n",
       "2020-01-07   72.146942    -0.004714\n",
       "2020-01-08   73.307518     0.015958\n",
       "...                ...          ...\n",
       "2025-06-23  201.500000     0.002484\n",
       "2025-06-24  200.300003    -0.005973\n",
       "2025-06-25  201.559998     0.006271\n",
       "2025-06-26  201.000000    -0.002782\n",
       "2025-06-27  201.080002     0.000398\n",
       "\n",
       "[1379 rows x 2 columns]"
      ]
     },
     "execution_count": 6,
     "metadata": {},
     "output_type": "execute_result"
    }
   ],
   "source": [
    "aapl_stock.data"
   ]
  },
  {
   "cell_type": "code",
   "execution_count": null,
   "id": "c3652618",
   "metadata": {},
   "outputs": [],
   "source": []
  }
 ],
 "metadata": {
  "kernelspec": {
   "display_name": "base",
   "language": "python",
   "name": "python3"
  },
  "language_info": {
   "codemirror_mode": {
    "name": "ipython",
    "version": 3
   },
   "file_extension": ".py",
   "mimetype": "text/x-python",
   "name": "python",
   "nbconvert_exporter": "python",
   "pygments_lexer": "ipython3",
   "version": "3.12.7"
  }
 },
 "nbformat": 4,
 "nbformat_minor": 5
}
